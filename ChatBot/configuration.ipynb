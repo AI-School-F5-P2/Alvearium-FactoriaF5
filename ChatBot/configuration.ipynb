{
 "cells": [
  {
   "cell_type": "markdown",
   "metadata": {},
   "source": [
    "# Crear el entorno Virtual"
   ]
  },
  {
   "cell_type": "code",
   "execution_count": null,
   "metadata": {},
   "outputs": [],
   "source": [
    "import os\n",
    "import subprocess\n",
    "\n",
    "virtual_env_name = \"chatbot-env\"\n",
    "\n",
    "# Define la ubicación deseada para el entorno virtual\n",
    "project_folder = \"Alvearium-FactoriaF5\"\n",
    "virtual_env_path = os.path.join(os.getcwd(), project_folder, \"ChatBot\", virtual_env_name)\n",
    "\n",
    "# Verificación si el entorno virtual ya está activado\n",
    "if os.getenv(\"VIRTUAL_ENV\") is not None:\n",
    "    print(\"El entorno virtual ya está activado.\")\n",
    "else:\n",
    "    # Verificación de existencia\n",
    "    if not os.path.exists(virtual_env_path):\n",
    "        # Si no existe, que lo cree\n",
    "        subprocess.run([\"python\", '-m', 'venv', virtual_env_name, virtual_env_path])\n",
    "        print(f\"Entorno virtual '{virtual_env_name}' creado exitosamente en '{virtual_env_path}'.\")\n",
    "    else:\n",
    "        print(f\"El entorno virtual '{virtual_env_name}' ya existe en '{virtual_env_path}'.\")\n",
    "\n",
    "    # Activar el entorno\n",
    "    activate_script = os.path.join(virtual_env_path, \"Scripts\", \"activate\")\n",
    "    subprocess.run([\"cmd\", \"/k\", activate_script])"
   ]
  },
  {
   "cell_type": "markdown",
   "metadata": {},
   "source": [
    "# Instalar librerias"
   ]
  },
  {
   "cell_type": "code",
   "execution_count": null,
   "metadata": {},
   "outputs": [],
   "source": [
    "pip install -r requirements.txt -q"
   ]
  },
  {
   "cell_type": "code",
   "execution_count": null,
   "metadata": {},
   "outputs": [],
   "source": [
    "pip show langchain"
   ]
  },
  {
   "cell_type": "markdown",
   "metadata": {},
   "source": [
    "# Configurar dotenv"
   ]
  },
  {
   "cell_type": "code",
   "execution_count": null,
   "metadata": {},
   "outputs": [],
   "source": [
    "from dotenv import load_dotenv, find_dotenv"
   ]
  },
  {
   "cell_type": "code",
   "execution_count": null,
   "metadata": {},
   "outputs": [],
   "source": [
    "result = load_dotenv(find_dotenv(), override=True)\n",
    "\n",
    "if result:\n",
    "    print(\"Variables de entorno cargadas exitosamente.\")\n",
    "else:\n",
    "    print(\"No se pudo cargar el archivo .env.\")\n",
    "\n",
    "    # Crear el archivo .env con las variables deseadas si no existe\n",
    "    with open(\".env\", \"w\") as f:\n",
    "        f.write(f\"OPENAI_API_KEY=MY_OPENAI_API_KEY\\n\")\n",
    "        f.write(f\"PINECONE_API_KEY=MY_PINECONE_API_KEY\\n\")\n",
    "        f.write(f\"PINECONE_CLUSTER=MY_PINECONE_CLUSTER\\n\")\n",
    "\n",
    "    print(\"Se creó el archivo .env con las variables iniciales.\")\n",
    "    # Vuelve a cargar las variables de entorno después de crear el archivo\n",
    "    load_dotenv()\n"
   ]
  },
  {
   "cell_type": "code",
   "execution_count": null,
   "metadata": {},
   "outputs": [],
   "source": [
    "os.environ['OPENAI_API_KEY'] = os.getenv(\"OPENAI_API_KEY\") or \"YOUR_API_KEY\""
   ]
  }
 ],
 "metadata": {
  "kernelspec": {
   "display_name": "chatbot-env",
   "language": "python",
   "name": "python3"
  },
  "language_info": {
   "codemirror_mode": {
    "name": "ipython",
    "version": 3
   },
   "file_extension": ".py",
   "mimetype": "text/x-python",
   "name": "python",
   "nbconvert_exporter": "python",
   "pygments_lexer": "ipython3",
   "version": "3.11.7"
  }
 },
 "nbformat": 4,
 "nbformat_minor": 2
}
